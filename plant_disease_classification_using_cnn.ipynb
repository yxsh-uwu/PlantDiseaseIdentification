{
  "cells": [
    {
      "cell_type": "code",
      "source": [
        "from google.colab import files\n",
        "uploaded = files.upload()"
      ],
      "metadata": {
        "colab": {
          "base_uri": "https://localhost:8080/",
          "height": 73
        },
        "id": "Zf85q1tlfxQU",
        "outputId": "cc8ad317-55a4-4469-c3d9-7ef0efa3386c"
      },
      "id": "Zf85q1tlfxQU",
      "execution_count": null,
      "outputs": [
        {
          "output_type": "display_data",
          "data": {
            "text/plain": [
              "<IPython.core.display.HTML object>"
            ],
            "text/html": [
              "\n",
              "     <input type=\"file\" id=\"files-e2f8f281-51c7-43dd-863f-a9da046bfdf9\" name=\"files[]\" multiple disabled\n",
              "        style=\"border:none\" />\n",
              "     <output id=\"result-e2f8f281-51c7-43dd-863f-a9da046bfdf9\">\n",
              "      Upload widget is only available when the cell has been executed in the\n",
              "      current browser session. Please rerun this cell to enable.\n",
              "      </output>\n",
              "      <script>// Copyright 2017 Google LLC\n",
              "//\n",
              "// Licensed under the Apache License, Version 2.0 (the \"License\");\n",
              "// you may not use this file except in compliance with the License.\n",
              "// You may obtain a copy of the License at\n",
              "//\n",
              "//      http://www.apache.org/licenses/LICENSE-2.0\n",
              "//\n",
              "// Unless required by applicable law or agreed to in writing, software\n",
              "// distributed under the License is distributed on an \"AS IS\" BASIS,\n",
              "// WITHOUT WARRANTIES OR CONDITIONS OF ANY KIND, either express or implied.\n",
              "// See the License for the specific language governing permissions and\n",
              "// limitations under the License.\n",
              "\n",
              "/**\n",
              " * @fileoverview Helpers for google.colab Python module.\n",
              " */\n",
              "(function(scope) {\n",
              "function span(text, styleAttributes = {}) {\n",
              "  const element = document.createElement('span');\n",
              "  element.textContent = text;\n",
              "  for (const key of Object.keys(styleAttributes)) {\n",
              "    element.style[key] = styleAttributes[key];\n",
              "  }\n",
              "  return element;\n",
              "}\n",
              "\n",
              "// Max number of bytes which will be uploaded at a time.\n",
              "const MAX_PAYLOAD_SIZE = 100 * 1024;\n",
              "\n",
              "function _uploadFiles(inputId, outputId) {\n",
              "  const steps = uploadFilesStep(inputId, outputId);\n",
              "  const outputElement = document.getElementById(outputId);\n",
              "  // Cache steps on the outputElement to make it available for the next call\n",
              "  // to uploadFilesContinue from Python.\n",
              "  outputElement.steps = steps;\n",
              "\n",
              "  return _uploadFilesContinue(outputId);\n",
              "}\n",
              "\n",
              "// This is roughly an async generator (not supported in the browser yet),\n",
              "// where there are multiple asynchronous steps and the Python side is going\n",
              "// to poll for completion of each step.\n",
              "// This uses a Promise to block the python side on completion of each step,\n",
              "// then passes the result of the previous step as the input to the next step.\n",
              "function _uploadFilesContinue(outputId) {\n",
              "  const outputElement = document.getElementById(outputId);\n",
              "  const steps = outputElement.steps;\n",
              "\n",
              "  const next = steps.next(outputElement.lastPromiseValue);\n",
              "  return Promise.resolve(next.value.promise).then((value) => {\n",
              "    // Cache the last promise value to make it available to the next\n",
              "    // step of the generator.\n",
              "    outputElement.lastPromiseValue = value;\n",
              "    return next.value.response;\n",
              "  });\n",
              "}\n",
              "\n",
              "/**\n",
              " * Generator function which is called between each async step of the upload\n",
              " * process.\n",
              " * @param {string} inputId Element ID of the input file picker element.\n",
              " * @param {string} outputId Element ID of the output display.\n",
              " * @return {!Iterable<!Object>} Iterable of next steps.\n",
              " */\n",
              "function* uploadFilesStep(inputId, outputId) {\n",
              "  const inputElement = document.getElementById(inputId);\n",
              "  inputElement.disabled = false;\n",
              "\n",
              "  const outputElement = document.getElementById(outputId);\n",
              "  outputElement.innerHTML = '';\n",
              "\n",
              "  const pickedPromise = new Promise((resolve) => {\n",
              "    inputElement.addEventListener('change', (e) => {\n",
              "      resolve(e.target.files);\n",
              "    });\n",
              "  });\n",
              "\n",
              "  const cancel = document.createElement('button');\n",
              "  inputElement.parentElement.appendChild(cancel);\n",
              "  cancel.textContent = 'Cancel upload';\n",
              "  const cancelPromise = new Promise((resolve) => {\n",
              "    cancel.onclick = () => {\n",
              "      resolve(null);\n",
              "    };\n",
              "  });\n",
              "\n",
              "  // Wait for the user to pick the files.\n",
              "  const files = yield {\n",
              "    promise: Promise.race([pickedPromise, cancelPromise]),\n",
              "    response: {\n",
              "      action: 'starting',\n",
              "    }\n",
              "  };\n",
              "\n",
              "  cancel.remove();\n",
              "\n",
              "  // Disable the input element since further picks are not allowed.\n",
              "  inputElement.disabled = true;\n",
              "\n",
              "  if (!files) {\n",
              "    return {\n",
              "      response: {\n",
              "        action: 'complete',\n",
              "      }\n",
              "    };\n",
              "  }\n",
              "\n",
              "  for (const file of files) {\n",
              "    const li = document.createElement('li');\n",
              "    li.append(span(file.name, {fontWeight: 'bold'}));\n",
              "    li.append(span(\n",
              "        `(${file.type || 'n/a'}) - ${file.size} bytes, ` +\n",
              "        `last modified: ${\n",
              "            file.lastModifiedDate ? file.lastModifiedDate.toLocaleDateString() :\n",
              "                                    'n/a'} - `));\n",
              "    const percent = span('0% done');\n",
              "    li.appendChild(percent);\n",
              "\n",
              "    outputElement.appendChild(li);\n",
              "\n",
              "    const fileDataPromise = new Promise((resolve) => {\n",
              "      const reader = new FileReader();\n",
              "      reader.onload = (e) => {\n",
              "        resolve(e.target.result);\n",
              "      };\n",
              "      reader.readAsArrayBuffer(file);\n",
              "    });\n",
              "    // Wait for the data to be ready.\n",
              "    let fileData = yield {\n",
              "      promise: fileDataPromise,\n",
              "      response: {\n",
              "        action: 'continue',\n",
              "      }\n",
              "    };\n",
              "\n",
              "    // Use a chunked sending to avoid message size limits. See b/62115660.\n",
              "    let position = 0;\n",
              "    do {\n",
              "      const length = Math.min(fileData.byteLength - position, MAX_PAYLOAD_SIZE);\n",
              "      const chunk = new Uint8Array(fileData, position, length);\n",
              "      position += length;\n",
              "\n",
              "      const base64 = btoa(String.fromCharCode.apply(null, chunk));\n",
              "      yield {\n",
              "        response: {\n",
              "          action: 'append',\n",
              "          file: file.name,\n",
              "          data: base64,\n",
              "        },\n",
              "      };\n",
              "\n",
              "      let percentDone = fileData.byteLength === 0 ?\n",
              "          100 :\n",
              "          Math.round((position / fileData.byteLength) * 100);\n",
              "      percent.textContent = `${percentDone}% done`;\n",
              "\n",
              "    } while (position < fileData.byteLength);\n",
              "  }\n",
              "\n",
              "  // All done.\n",
              "  yield {\n",
              "    response: {\n",
              "      action: 'complete',\n",
              "    }\n",
              "  };\n",
              "}\n",
              "\n",
              "scope.google = scope.google || {};\n",
              "scope.google.colab = scope.google.colab || {};\n",
              "scope.google.colab._files = {\n",
              "  _uploadFiles,\n",
              "  _uploadFilesContinue,\n",
              "};\n",
              "})(self);\n",
              "</script> "
            ]
          },
          "metadata": {}
        },
        {
          "output_type": "stream",
          "name": "stdout",
          "text": [
            "Saving kaggle.json to kaggle.json\n"
          ]
        }
      ]
    },
    {
      "cell_type": "code",
      "source": [
        "!mkdir -p ~/.kaggle\n",
        "!mv kaggle.json ~/.kaggle/\n",
        "!chmod 600 ~/.kaggle/kaggle.json"
      ],
      "metadata": {
        "id": "KBJ21OjVfxM2"
      },
      "id": "KBJ21OjVfxM2",
      "execution_count": null,
      "outputs": []
    },
    {
      "cell_type": "code",
      "source": [
        "!kaggle datasets download -d vipoooool/new-plant-diseases-dataset"
      ],
      "metadata": {
        "colab": {
          "base_uri": "https://localhost:8080/"
        },
        "id": "dRUrpRjdfxJl",
        "outputId": "b4850e7e-e19a-45ce-a1f6-273370b82c36"
      },
      "id": "dRUrpRjdfxJl",
      "execution_count": null,
      "outputs": [
        {
          "output_type": "stream",
          "name": "stdout",
          "text": [
            "Warning: Looks like you're using an outdated API Version, please consider updating (server 1.6.14 / client 1.6.12)\n",
            "Dataset URL: https://www.kaggle.com/datasets/vipoooool/new-plant-diseases-dataset\n",
            "License(s): copyright-authors\n",
            "Downloading new-plant-diseases-dataset.zip to /content\n",
            "100% 2.69G/2.70G [00:18<00:00, 174MB/s]\n",
            "100% 2.70G/2.70G [00:18<00:00, 153MB/s]\n"
          ]
        }
      ]
    },
    {
      "cell_type": "code",
      "source": [
        "import zipfile\n",
        "zip = zipfile.ZipFile('/content/new-plant-diseases-dataset.zip')\n",
        "zip.extractall('/content')\n",
        "zip.close()"
      ],
      "metadata": {
        "id": "NsCR_Crkfw_t"
      },
      "id": "NsCR_Crkfw_t",
      "execution_count": null,
      "outputs": []
    },
    {
      "cell_type": "code",
      "execution_count": null,
      "metadata": {
        "execution": {
          "iopub.execute_input": "2024-03-11T19:26:47.616555Z",
          "iopub.status.busy": "2024-03-11T19:26:47.616175Z",
          "iopub.status.idle": "2024-03-11T19:26:47.623673Z",
          "shell.execute_reply": "2024-03-11T19:26:47.622568Z",
          "shell.execute_reply.started": "2024-03-11T19:26:47.616526Z"
        },
        "id": "e81c97ee",
        "trusted": true
      },
      "outputs": [],
      "source": [
        "import pandas as pd\n",
        "import numpy as np\n",
        "import matplotlib.pyplot as plt\n",
        "import os\n",
        "import tensorflow as tf\n",
        "from tensorflow.keras import layers, models\n",
        "from tensorflow.keras.models import *\n",
        "from tensorflow.keras.layers import *\n",
        "from tensorflow.keras.preprocessing.image import ImageDataGenerator, img_to_array\n",
        "import os\n",
        "from PIL import Image\n",
        "import seaborn as sns\n",
        "import cv2\n",
        "from tensorflow.keras.preprocessing.image import ImageDataGenerator\n"
      ],
      "id": "e81c97ee"
    },
    {
      "cell_type": "code",
      "execution_count": null,
      "metadata": {
        "execution": {
          "iopub.execute_input": "2024-03-11T19:27:26.752437Z",
          "iopub.status.busy": "2024-03-11T19:27:26.751916Z",
          "iopub.status.idle": "2024-03-11T19:27:27.181334Z",
          "shell.execute_reply": "2024-03-11T19:27:27.180244Z",
          "shell.execute_reply.started": "2024-03-11T19:27:26.752403Z"
        },
        "id": "3e44b377",
        "trusted": true
      },
      "outputs": [],
      "source": [
        "BASE_DIR = '/content/new plant diseases dataset(augmented)/New Plant Diseases Dataset(Augmented)'\n",
        "\n",
        "test_dir = os.path.join(BASE_DIR, 'valid')\n",
        "train_dir = os.path.join(BASE_DIR, 'train')\n",
        "\n",
        "train_class_dir = [os.path.join(train_dir, d) for d in os.listdir(train_dir) if os.path.isdir(os.path.join(train_dir, d))]\n",
        "test_class_dir = [os.path.join(test_dir, d) for d in os.listdir(test_dir) if os.path.isdir(os.path.join(test_dir, d))]\n",
        "\n",
        "train_image_paths = []\n",
        "test_image_paths = []\n",
        "\n",
        "for class_dir in train_class_dir:\n",
        "    for file_name in os.listdir(class_dir):\n",
        "        if file_name.endswith(('.JPG','.jpg','jpeg')):\n",
        "            image_path = os.path.join(class_dir, file_name)\n",
        "            train_image_paths.append(image_path)\n",
        "\n",
        "for class_dir in test_class_dir:\n",
        "    for file_name in os.listdir(class_dir):\n",
        "        if file_name.endswith(('.JPG','.jpg','jpeg')):\n",
        "            image_path = os.path.join(class_dir, file_name)\n",
        "            train_image_paths.append(image_path)\n",
        "\n",
        "\n",
        "train_labels = [os.path.basename(class_dir) for class_dir in train_class_dir]\n",
        "test_labels = [os.path.basename(class_dir) for class_dir in test_class_dir]"
      ],
      "id": "3e44b377"
    },
    {
      "cell_type": "code",
      "execution_count": null,
      "metadata": {
        "id": "dfc968db",
        "colab": {
          "base_uri": "https://localhost:8080/"
        },
        "outputId": "fc519744-93dd-402d-85dd-2a78e8933d71"
      },
      "outputs": [
        {
          "output_type": "execute_result",
          "data": {
            "text/plain": [
              "['Grape___Esca_(Black_Measles)',\n",
              " 'Apple___Cedar_apple_rust',\n",
              " 'Corn_(maize)___Cercospora_leaf_spot Gray_leaf_spot',\n",
              " 'Tomato___Leaf_Mold',\n",
              " 'Pepper,_bell___Bacterial_spot',\n",
              " 'Apple___Apple_scab',\n",
              " 'Tomato___Tomato_Yellow_Leaf_Curl_Virus',\n",
              " 'Strawberry___Leaf_scorch',\n",
              " 'Apple___healthy',\n",
              " 'Tomato___Early_blight',\n",
              " 'Tomato___Late_blight',\n",
              " 'Soybean___healthy',\n",
              " 'Potato___Late_blight',\n",
              " 'Apple___Black_rot',\n",
              " 'Corn_(maize)___Common_rust_',\n",
              " 'Potato___Early_blight',\n",
              " 'Grape___Leaf_blight_(Isariopsis_Leaf_Spot)',\n",
              " 'Tomato___Bacterial_spot',\n",
              " 'Grape___healthy',\n",
              " 'Strawberry___healthy',\n",
              " 'Tomato___Tomato_mosaic_virus',\n",
              " 'Corn_(maize)___healthy',\n",
              " 'Raspberry___healthy',\n",
              " 'Pepper,_bell___healthy',\n",
              " 'Cherry_(including_sour)___Powdery_mildew',\n",
              " 'Peach___Bacterial_spot',\n",
              " 'Corn_(maize)___Northern_Leaf_Blight',\n",
              " 'Potato___healthy',\n",
              " 'Blueberry___healthy',\n",
              " 'Orange___Haunglongbing_(Citrus_greening)',\n",
              " 'Peach___healthy',\n",
              " 'Tomato___Target_Spot',\n",
              " 'Squash___Powdery_mildew',\n",
              " 'Tomato___Septoria_leaf_spot',\n",
              " 'Tomato___healthy',\n",
              " 'Cherry_(including_sour)___healthy',\n",
              " 'Tomato___Spider_mites Two-spotted_spider_mite',\n",
              " 'Grape___Black_rot']"
            ]
          },
          "metadata": {},
          "execution_count": 8
        }
      ],
      "source": [
        "classes_train = os.listdir(train_dir)\n",
        "\n",
        "classes_train\n"
      ],
      "id": "dfc968db"
    },
    {
      "cell_type": "code",
      "execution_count": null,
      "metadata": {
        "id": "d5abbda4",
        "colab": {
          "base_uri": "https://localhost:8080/"
        },
        "outputId": "42886066-94e7-4431-a339-c0cc6993ac5c"
      },
      "outputs": [
        {
          "output_type": "stream",
          "name": "stdout",
          "text": [
            "Found 70295 images belonging to 38 classes.\n",
            "Found 17572 images belonging to 38 classes.\n"
          ]
        }
      ],
      "source": [
        "target_size = (100,100)\n",
        "\n",
        "batch_size = 64\n",
        "\n",
        "\n",
        "train_datagen = ImageDataGenerator(\n",
        "    rescale=1./255,\n",
        "    rotation_range=20,\n",
        "    width_shift_range=0.2,\n",
        "    height_shift_range=0.2,\n",
        "    horizontal_flip=True\n",
        ")\n",
        "\n",
        "train_generator = train_datagen.flow_from_directory(\n",
        "    train_dir,\n",
        "    target_size,\n",
        "    batch_size=batch_size,\n",
        "    class_mode='categorical',\n",
        "    shuffle=True\n",
        ")\n",
        "\n",
        "val_datagen = ImageDataGenerator(\n",
        "    rescale=1./255,\n",
        "    rotation_range=20,\n",
        "    width_shift_range=0.2,\n",
        "    height_shift_range=0.2,\n",
        "    horizontal_flip=True\n",
        ")\n",
        "\n",
        "\n",
        "validation_generator = val_datagen.flow_from_directory(\n",
        "    test_dir,\n",
        "    target_size,\n",
        "    batch_size=batch_size,\n",
        "    class_mode='categorical',\n",
        "    shuffle=False\n",
        ")\n"
      ],
      "id": "d5abbda4"
    },
    {
      "cell_type": "code",
      "execution_count": null,
      "metadata": {
        "id": "393b8745",
        "colab": {
          "base_uri": "https://localhost:8080/"
        },
        "outputId": "e4a1ee05-21ba-4780-e60b-b0209b534ffb"
      },
      "outputs": [
        {
          "output_type": "execute_result",
          "data": {
            "text/plain": [
              "{'Apple___Apple_scab': 0,\n",
              " 'Apple___Black_rot': 1,\n",
              " 'Apple___Cedar_apple_rust': 2,\n",
              " 'Apple___healthy': 3,\n",
              " 'Blueberry___healthy': 4,\n",
              " 'Cherry_(including_sour)___Powdery_mildew': 5,\n",
              " 'Cherry_(including_sour)___healthy': 6,\n",
              " 'Corn_(maize)___Cercospora_leaf_spot Gray_leaf_spot': 7,\n",
              " 'Corn_(maize)___Common_rust_': 8,\n",
              " 'Corn_(maize)___Northern_Leaf_Blight': 9,\n",
              " 'Corn_(maize)___healthy': 10,\n",
              " 'Grape___Black_rot': 11,\n",
              " 'Grape___Esca_(Black_Measles)': 12,\n",
              " 'Grape___Leaf_blight_(Isariopsis_Leaf_Spot)': 13,\n",
              " 'Grape___healthy': 14,\n",
              " 'Orange___Haunglongbing_(Citrus_greening)': 15,\n",
              " 'Peach___Bacterial_spot': 16,\n",
              " 'Peach___healthy': 17,\n",
              " 'Pepper,_bell___Bacterial_spot': 18,\n",
              " 'Pepper,_bell___healthy': 19,\n",
              " 'Potato___Early_blight': 20,\n",
              " 'Potato___Late_blight': 21,\n",
              " 'Potato___healthy': 22,\n",
              " 'Raspberry___healthy': 23,\n",
              " 'Soybean___healthy': 24,\n",
              " 'Squash___Powdery_mildew': 25,\n",
              " 'Strawberry___Leaf_scorch': 26,\n",
              " 'Strawberry___healthy': 27,\n",
              " 'Tomato___Bacterial_spot': 28,\n",
              " 'Tomato___Early_blight': 29,\n",
              " 'Tomato___Late_blight': 30,\n",
              " 'Tomato___Leaf_Mold': 31,\n",
              " 'Tomato___Septoria_leaf_spot': 32,\n",
              " 'Tomato___Spider_mites Two-spotted_spider_mite': 33,\n",
              " 'Tomato___Target_Spot': 34,\n",
              " 'Tomato___Tomato_Yellow_Leaf_Curl_Virus': 35,\n",
              " 'Tomato___Tomato_mosaic_virus': 36,\n",
              " 'Tomato___healthy': 37}"
            ]
          },
          "metadata": {},
          "execution_count": 10
        }
      ],
      "source": [
        "train_generator.class_indices"
      ],
      "id": "393b8745"
    },
    {
      "cell_type": "code",
      "execution_count": null,
      "metadata": {
        "id": "5b1e94e4",
        "colab": {
          "base_uri": "https://localhost:8080/"
        },
        "outputId": "65cbef8c-32c7-49e7-9030-cb45d1f80332"
      },
      "outputs": [
        {
          "output_type": "execute_result",
          "data": {
            "text/plain": [
              "38"
            ]
          },
          "metadata": {},
          "execution_count": 11
        }
      ],
      "source": [
        "class_directories = [d for d in os.listdir(train_dir) if os.path.isdir(os.path.join(train_dir, d))]\n",
        "num_classes = len(class_directories)\n",
        "num_classes"
      ],
      "id": "5b1e94e4"
    },
    {
      "cell_type": "code",
      "execution_count": null,
      "metadata": {
        "id": "f02951a3"
      },
      "outputs": [],
      "source": [
        "model = models.Sequential()\n",
        "\n",
        "model.add(layers.Conv2D(32, (3, 3), activation = 'relu', input_shape = (100,100,3)))\n",
        "model.add(layers.MaxPooling2D((2,2)))\n",
        "\n",
        "model.add(layers.Conv2D(64, (3, 3), activation='relu', padding='same'))\n",
        "model.add(layers.MaxPooling2D((2,2)))\n",
        "\n",
        "model.add(layers.Conv2D(128, (3,3), activation = 'relu', padding='same'))\n",
        "model.add(layers.MaxPooling2D((2,2)))\n",
        "\n",
        "model.add(layers.Conv2D(256, (3, 3), activation='relu', padding='same'))\n",
        "model.add(layers.MaxPooling2D((2,2)))\n",
        "\n",
        "model.add(layers.Conv2D(128, (3,3), activation = 'relu', padding='same'))\n",
        "model.add(layers.MaxPooling2D((2,2)))\n",
        "\n",
        "model.add(layers.Conv2D(64, (3, 3), activation='relu', padding='same'))\n",
        "model.add(layers.MaxPooling2D((2,2)))\n",
        "\n",
        "model.add(layers.Flatten())\n",
        "\n",
        "model.add(layers.Dense(128, activation = 'relu'))\n",
        "model.add(layers.Dense(128, activation = 'relu'))\n",
        "\n",
        "model.add(layers.Dropout(0.5))\n",
        "\n",
        "model.add(layers.Dense(num_classes, activation='softmax'))\n"
      ],
      "id": "f02951a3"
    },
    {
      "cell_type": "code",
      "execution_count": null,
      "metadata": {
        "id": "5aa50599"
      },
      "outputs": [],
      "source": [
        "model.compile(optimizer='adam', loss='categorical_crossentropy', metrics=['accuracy'])"
      ],
      "id": "5aa50599"
    },
    {
      "cell_type": "code",
      "execution_count": null,
      "metadata": {
        "id": "a9d5a00a",
        "colab": {
          "base_uri": "https://localhost:8080/"
        },
        "outputId": "2a24aa1a-4787-4e96-d8c7-0ff809b30c3c"
      },
      "outputs": [
        {
          "output_type": "stream",
          "name": "stdout",
          "text": [
            "Model: \"sequential\"\n",
            "_________________________________________________________________\n",
            " Layer (type)                Output Shape              Param #   \n",
            "=================================================================\n",
            " conv2d (Conv2D)             (None, 98, 98, 32)        896       \n",
            "                                                                 \n",
            " max_pooling2d (MaxPooling2  (None, 49, 49, 32)        0         \n",
            " D)                                                              \n",
            "                                                                 \n",
            " conv2d_1 (Conv2D)           (None, 49, 49, 64)        18496     \n",
            "                                                                 \n",
            " max_pooling2d_1 (MaxPoolin  (None, 24, 24, 64)        0         \n",
            " g2D)                                                            \n",
            "                                                                 \n",
            " conv2d_2 (Conv2D)           (None, 24, 24, 128)       73856     \n",
            "                                                                 \n",
            " max_pooling2d_2 (MaxPoolin  (None, 12, 12, 128)       0         \n",
            " g2D)                                                            \n",
            "                                                                 \n",
            " conv2d_3 (Conv2D)           (None, 12, 12, 256)       295168    \n",
            "                                                                 \n",
            " max_pooling2d_3 (MaxPoolin  (None, 6, 6, 256)         0         \n",
            " g2D)                                                            \n",
            "                                                                 \n",
            " conv2d_4 (Conv2D)           (None, 6, 6, 128)         295040    \n",
            "                                                                 \n",
            " max_pooling2d_4 (MaxPoolin  (None, 3, 3, 128)         0         \n",
            " g2D)                                                            \n",
            "                                                                 \n",
            " conv2d_5 (Conv2D)           (None, 3, 3, 64)          73792     \n",
            "                                                                 \n",
            " max_pooling2d_5 (MaxPoolin  (None, 1, 1, 64)          0         \n",
            " g2D)                                                            \n",
            "                                                                 \n",
            " flatten (Flatten)           (None, 64)                0         \n",
            "                                                                 \n",
            " dense (Dense)               (None, 128)               8320      \n",
            "                                                                 \n",
            " dense_1 (Dense)             (None, 128)               16512     \n",
            "                                                                 \n",
            " dropout (Dropout)           (None, 128)               0         \n",
            "                                                                 \n",
            " dense_2 (Dense)             (None, 38)                4902      \n",
            "                                                                 \n",
            "=================================================================\n",
            "Total params: 786982 (3.00 MB)\n",
            "Trainable params: 786982 (3.00 MB)\n",
            "Non-trainable params: 0 (0.00 Byte)\n",
            "_________________________________________________________________\n"
          ]
        }
      ],
      "source": [
        "model.summary()"
      ],
      "id": "a9d5a00a"
    },
    {
      "cell_type": "code",
      "execution_count": null,
      "metadata": {
        "id": "b9df177e",
        "colab": {
          "base_uri": "https://localhost:8080/"
        },
        "outputId": "360e781f-af11-435b-a15f-4f2d6f6e5f75"
      },
      "outputs": [
        {
          "output_type": "stream",
          "name": "stdout",
          "text": [
            "Epoch 1/15\n",
            "1099/1099 [==============================] - 312s 276ms/step - loss: 2.9524 - accuracy: 0.1541 - val_loss: 1.9564 - val_accuracy: 0.3923\n",
            "Epoch 2/15\n",
            "1099/1099 [==============================] - 301s 274ms/step - loss: 1.6405 - accuracy: 0.4895 - val_loss: 1.1942 - val_accuracy: 0.6198\n",
            "Epoch 3/15\n",
            "1099/1099 [==============================] - 295s 268ms/step - loss: 1.0487 - accuracy: 0.6740 - val_loss: 0.8073 - val_accuracy: 0.7407\n",
            "Epoch 4/15\n",
            "1099/1099 [==============================] - 293s 266ms/step - loss: 0.7478 - accuracy: 0.7695 - val_loss: 0.5284 - val_accuracy: 0.8281\n",
            "Epoch 5/15\n",
            "1099/1099 [==============================] - 295s 269ms/step - loss: 0.5640 - accuracy: 0.8258 - val_loss: 0.4339 - val_accuracy: 0.8605\n",
            "Epoch 6/15\n",
            "1099/1099 [==============================] - 294s 267ms/step - loss: 0.4523 - accuracy: 0.8625 - val_loss: 0.3541 - val_accuracy: 0.8895\n",
            "Epoch 7/15\n",
            "1099/1099 [==============================] - 294s 267ms/step - loss: 0.3904 - accuracy: 0.8809 - val_loss: 0.3119 - val_accuracy: 0.9035\n",
            "Epoch 8/15\n",
            "1099/1099 [==============================] - 294s 267ms/step - loss: 0.3464 - accuracy: 0.8954 - val_loss: 0.2844 - val_accuracy: 0.9122\n",
            "Epoch 9/15\n",
            "1099/1099 [==============================] - 298s 271ms/step - loss: 0.3021 - accuracy: 0.9091 - val_loss: 0.3499 - val_accuracy: 0.8910\n",
            "Epoch 10/15\n",
            "1099/1099 [==============================] - 296s 269ms/step - loss: 0.2912 - accuracy: 0.9117 - val_loss: 0.2159 - val_accuracy: 0.9321\n",
            "Epoch 11/15\n",
            "1099/1099 [==============================] - 295s 268ms/step - loss: 0.2523 - accuracy: 0.9243 - val_loss: 0.2195 - val_accuracy: 0.9313\n",
            "Epoch 12/15\n",
            "1099/1099 [==============================] - 295s 269ms/step - loss: 0.2364 - accuracy: 0.9290 - val_loss: 0.2051 - val_accuracy: 0.9385\n",
            "Epoch 13/15\n",
            "1099/1099 [==============================] - 298s 271ms/step - loss: 0.2198 - accuracy: 0.9344 - val_loss: 0.1824 - val_accuracy: 0.9446\n",
            "Epoch 14/15\n",
            "1099/1099 [==============================] - 299s 272ms/step - loss: 0.2129 - accuracy: 0.9367 - val_loss: 0.2027 - val_accuracy: 0.9410\n",
            "Epoch 15/15\n",
            "1099/1099 [==============================] - 297s 270ms/step - loss: 0.1953 - accuracy: 0.9421 - val_loss: 0.1749 - val_accuracy: 0.9479\n"
          ]
        }
      ],
      "source": [
        "num_epochs = 15\n",
        "steps_per_epoch = len(train_generator)\n",
        "validation_steps = len(validation_generator)\n",
        "\n",
        "history = model.fit(\n",
        "    train_generator,\n",
        "    steps_per_epoch=steps_per_epoch,\n",
        "    epochs=num_epochs,\n",
        "    validation_data=validation_generator,\n",
        "    validation_steps=validation_steps,\n",
        ")"
      ],
      "id": "b9df177e"
    },
    {
      "cell_type": "code",
      "execution_count": null,
      "metadata": {
        "id": "9c7f3476",
        "colab": {
          "base_uri": "https://localhost:8080/",
          "height": 407
        },
        "outputId": "c9b75902-e9b2-438e-83cd-f8dd6b0b9022"
      },
      "outputs": [
        {
          "output_type": "display_data",
          "data": {
            "text/plain": [
              "<Figure size 1200x400 with 2 Axes>"
            ],
            "image/png": "[encoded data removed]"
          },
          "metadata": {}
        }
      ],
      "source": [
        "import matplotlib.pyplot as plt\n",
        "\n",
        "\n",
        "plt.figure(figsize=(12, 4))\n",
        "plt.subplot(1, 3, 1)\n",
        "plt.plot(history.history['loss'], label='Training Loss')\n",
        "plt.plot(history.history['val_loss'], label='Validation Loss')\n",
        "plt.title('Training and Validation Loss')\n",
        "plt.xlabel('Epoch')\n",
        "plt.ylabel('Loss')\n",
        "plt.legend()\n",
        "\n",
        "\n",
        "plt.subplot(1, 3, 2)\n",
        "plt.plot(history.history['accuracy'], label='Training Accuracy')\n",
        "plt.plot(history.history['val_accuracy'], label='Validation Accuracy')\n",
        "plt.title('Training and Validation Accuracy')\n",
        "plt.xlabel('Epoch')\n",
        "plt.ylabel('Accuracy')\n",
        "plt.legend()\n",
        "plt.tight_layout()\n",
        "plt.show()\n"
      ],
      "id": "9c7f3476"
    },
    {
      "cell_type": "code",
      "source": [
        "from tensorflow.keras.models import save_model\n",
        "\n",
        "model.save('content/model_saved.h5')\n"
      ],
      "metadata": {
        "id": "lyoD-28Lg9bp",
        "colab": {
          "base_uri": "https://localhost:8080/"
        },
        "outputId": "d2c52ee9-5f8a-4853-d584-790f5580762e"
      },
      "id": "lyoD-28Lg9bp",
      "execution_count": null,
      "outputs": [
        {
          "output_type": "stream",
          "name": "stderr",
          "text": [
            "/usr/local/lib/python3.10/dist-packages/keras/src/engine/training.py:3103: UserWarning: You are saving your model as an HDF5 file via `model.save()`. This file format is considered legacy. We recommend using instead the native Keras format, e.g. `model.save('my_model.keras')`.\n",
            "  saving_api.save_model(\n"
          ]
        }
      ]
    },
    {
      "cell_type": "code",
      "source": [
        "from tensorflow.keras.models import load_model\n",
        "\n",
        "\n",
        "model = load_model('/content/model_saved.h5')\n"
      ],
      "metadata": {
        "id": "VoRKYQzvyyXj"
      },
      "id": "VoRKYQzvyyXj",
      "execution_count": null,
      "outputs": []
    },
    {
      "cell_type": "code",
      "source": [
        "import numpy as np\n",
        "from tensorflow.keras.preprocessing import image\n",
        "\n",
        "def preprocess_image(img_path):\n",
        "\n",
        "    img = image.load_img(img_path, target_size=(100,100))\n",
        "\n",
        "    img_array = image.img_to_array(img)\n",
        "\n",
        "    img_array = np.expand_dims(img_array, axis=0)\n",
        "\n",
        "    img_array /= 255.0\n",
        "    return img_array\n"
      ],
      "metadata": {
        "id": "tgbMjfYByzcI"
      },
      "id": "tgbMjfYByzcI",
      "execution_count": null,
      "outputs": []
    },
    {
      "cell_type": "code",
      "source": [
        "def predict_disease(img_array):\n",
        "\n",
        "    predictions = model.predict(img_array)\n",
        "\n",
        "    predicted_class = np.argmax(predictions)\n",
        "    return predicted_class, predictions[0][predicted_class]\n"
      ],
      "metadata": {
        "id": "rFWWn9fmyzYm"
      },
      "id": "rFWWn9fmyzYm",
      "execution_count": null,
      "outputs": []
    },
    {
      "cell_type": "code",
      "source": [
        "# Class dictionary as provided\n",
        "class_dict = {'Apple___Apple_scab': 0, 'Apple___Black_rot': 1, 'Apple___Cedar_apple_rust': 2, 'Apple___healthy': 3,\n",
        "              'Blueberry___healthy': 4, 'Cherry_(including_sour)___Powdery_mildew': 5, 'Cherry_(including_sour)___healthy': 6,\n",
        "              'Corn_(maize)___Cercospora_leaf_spot Gray_leaf_spot': 7, 'Corn_(maize)___Common_rust_': 8,\n",
        "              'Corn_(maize)___Northern_Leaf_Blight': 9, 'Corn_(maize)___healthy': 10, 'Grape___Black_rot': 11,\n",
        "              'Grape___Esca_(Black_Measles)': 12, 'Grape___Leaf_blight_(Isariopsis_Leaf_Spot)': 13, 'Grape___healthy': 14,\n",
        "              'Orange___Haunglongbing_(Citrus_greening)': 15, 'Peach___Bacterial_spot': 16, 'Peach___healthy': 17,\n",
        "              'Pepper,_bell___Bacterial_spot': 18, 'Pepper,_bell___healthy': 19, 'Potato___Early_blight': 20,\n",
        "              'Potato___Late_blight': 21, 'Potato___healthy': 22, 'Raspberry___healthy': 23, 'Soybean___healthy': 24,\n",
        "              'Squash___Powdery_mildew': 25, 'Strawberry___Leaf_scorch': 26, 'Strawberry___healthy': 27,\n",
        "              'Tomato___Bacterial_spot': 28, 'Tomato___Early_blight': 29, 'Tomato___Late_blight': 30, 'Tomato___Leaf_Mold': 31,\n",
        "              'Tomato___Septoria_leaf_spot': 32, 'Tomato___Spider_mites Two-spotted_spider_mite': 33,\n",
        "              'Tomato___Target_Spot': 34, 'Tomato___Tomato_Yellow_Leaf_Curl_Virus': 35, 'Tomato___Tomato_mosaic_virus': 36,\n",
        "              'Tomato___healthy': 37}\n",
        "\n",
        "# Reverse the class dictionary to get the class name from index\n",
        "index_to_class = {v: k for k, v in class_dict.items()}\n",
        "\n",
        "# Predict disease for a given image path\n",
        "img_path = '/content/Grape Leaf Blight.jpeg'\n",
        "img_array = preprocess_image(img_path)\n",
        "predicted_class_index, confidence = predict_disease(img_array)\n",
        "predicted_class_name = index_to_class[predicted_class_index]\n",
        "\n",
        "print(f\"Predicted disease: {predicted_class_name} with confidence: {confidence}\")\n"
      ],
      "metadata": {
        "colab": {
          "base_uri": "https://localhost:8080/"
        },
        "id": "yQxNnbFAyzWB",
        "outputId": "132bc58a-b2ac-4909-9333-b39f5183c69d"
      },
      "id": "yQxNnbFAyzWB",
      "execution_count": null,
      "outputs": [
        {
          "output_type": "stream",
          "name": "stdout",
          "text": [
            "1/1 [==============================] - 0s 17ms/step\n",
            "Predicted disease: Grape___Leaf_blight_(Isariopsis_Leaf_Spot) with confidence: 1.0\n"
          ]
        }
      ]
    },
    {
      "cell_type": "code",
      "source": [],
      "metadata": {
        "id": "boMtChNtyzTb"
      },
      "id": "boMtChNtyzTb",
      "execution_count": null,
      "outputs": []
    },
    {
      "cell_type": "code",
      "source": [],
      "metadata": {
        "id": "Fr1Ut6l5yzQ3"
      },
      "id": "Fr1Ut6l5yzQ3",
      "execution_count": null,
      "outputs": []
    }
  ],
  "metadata": {
    "accelerator": "GPU",
    "colab": {
      "gpuType": "T4",
      "provenance": []
    },
    "kaggle": {
      "accelerator": "gpu",
      "dataSources": [
        {
          "datasetId": 78313,
          "sourceId": 182633,
          "sourceType": "datasetVersion"
        }
      ],
      "dockerImageVersionId": 30664,
      "isGpuEnabled": true,
      "isInternetEnabled": true,
      "language": "python",
      "sourceType": "notebook"
    },
    "kernelspec": {
      "display_name": "Python 3",
      "name": "python3"
    },
    "language_info": {
      "codemirror_mode": {
        "name": "ipython",
        "version": 3
      },
      "file_extension": ".py",
      "mimetype": "text/x-python",
      "name": "python",
      "nbconvert_exporter": "python",
      "pygments_lexer": "ipython3",
      "version": "3.10.13"
    },
    "papermill": {
      "default_parameters": {},
      "duration": 66.901736,
      "end_time": "2024-03-10T13:31:03.387760",
      "environment_variables": {},
      "exception": null,
      "input_path": "__notebook__.ipynb",
      "output_path": "__notebook__.ipynb",
      "parameters": {},
      "start_time": "2024-03-10T13:29:56.486024",
      "version": "2.5.0"
    }
  },
  "nbformat": 4,
  "nbformat_minor": 5
}